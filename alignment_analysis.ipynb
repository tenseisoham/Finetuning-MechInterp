{
 "cells": [
  {
   "cell_type": "code",
   "execution_count": 1,
   "metadata": {},
   "outputs": [
    {
     "name": "stdout",
     "output_type": "stream",
     "text": [
      "Positive samples: 50, Negative samples: 50\n",
      "Total texts for activation extraction: 100\n",
      "Loaded pretrained model gpt2 into HookedTransformer\n",
      "Loaded pretrained model gpt2 into HookedTransformer\n",
      "Extracting activations for the base model...\n",
      "Extracting activations for the finetuned model (3126)...\n",
      "Procrustes error for Layer 9 representations: 1013822660.0\n",
      "Procrustes error for Final Hidden State representations: 8484809700.0\n"
     ]
    }
   ],
   "source": [
    "import torch\n",
    "import numpy as np\n",
    "from datasets import load_dataset\n",
    "from scipy.linalg import orthogonal_procrustes\n",
    "from transformer_lens import HookedTransformer\n",
    "from transformers import AutoModelForCausalLM, AutoTokenizer\n",
    "from torch.utils.data import DataLoader\n",
    "\n",
    "# Set device (models are loaded on CPU; TransformerLens moves them to device)\n",
    "device = \"cuda\" if torch.cuda.is_available() else \"cpu\"\n",
    "\n",
    "# -------------------------------\n",
    "# Cell 4: Load tokenizer\n",
    "tokenizer = AutoTokenizer.from_pretrained(\"gpt2\")\n",
    "if tokenizer.pad_token is None:\n",
    "    tokenizer.pad_token = tokenizer.eos_token\n",
    "\n",
    "# -------------------------------\n",
    "# Cell 5: Load IMDb dataset and filter a small validation subset for analysis\n",
    "dataset = load_dataset(\"imdb\")\n",
    "\n",
    "def filter_by_label(dataset_split, label, max_samples=50):\n",
    "    filtered = [d for d in dataset_split if d[\"label\"] == label]\n",
    "    return filtered[:max_samples]\n",
    "\n",
    "# We use the 'test' split for analysis\n",
    "val_data = dataset[\"test\"]\n",
    "pos_samples = filter_by_label(val_data, 1, max_samples=50)\n",
    "neg_samples = filter_by_label(val_data, 0, max_samples=50)\n",
    "print(f\"Positive samples: {len(pos_samples)}, Negative samples: {len(neg_samples)}\")\n",
    "\n",
    "# Combine texts from positive and negative samples\n",
    "texts = [s[\"text\"] for s in pos_samples + neg_samples]\n",
    "print(f\"Total texts for activation extraction: {len(texts)}\")\n",
    "\n",
    "# -------------------------------\n",
    "# Define a function to load a model and wrap with TransformerLens\n",
    "def load_tl_model(model_path):\n",
    "    hf_model = AutoModelForCausalLM.from_pretrained(model_path)\n",
    "    hf_model.config.pad_token_id = tokenizer.pad_token_id\n",
    "    tl_model = HookedTransformer.from_pretrained(\n",
    "        \"gpt2\",      # recognized alias for GPT-2\n",
    "        hf_model=hf_model,\n",
    "        device=device\n",
    "    )\n",
    "    tl_model.eval()\n",
    "    return tl_model\n",
    "\n",
    "# Define model paths (using your sample style)\n",
    "model_paths = {\n",
    "    \"base\": \"gpt2\",                     # Base model from Hugging Face\n",
    "    \"3126\": \"./results/checkpoint-3126\", # Finetuned checkpoint at epoch 3126\n",
    "}\n",
    "\n",
    "# Load models\n",
    "base_model = load_tl_model(model_paths[\"base\"])\n",
    "finetuned_model = load_tl_model(model_paths[\"3126\"])\n",
    "\n",
    "# -------------------------------\n",
    "# Define batched activation extraction functions using hooks\n",
    "\n",
    "def extract_activation_batched(model, texts, layer_num, batch_size=10):\n",
    "    \"\"\"Extracts activations for a given layer in batches to save GPU memory.\n",
    "    The activations are averaged over the token dimension (residual pre-activations).\n",
    "    \"\"\"\n",
    "    activations = []\n",
    "    # Use the appropriate hook name (e.g., for residual pre-activation)\n",
    "    hook_name = f\"blocks.{layer_num}.hook_resid_pre\"\n",
    "    \n",
    "    def hook_fn(res, hook):\n",
    "        # res shape: (batch, sequence_length, hidden_dim)\n",
    "        # Compute average over tokens and append to our list\n",
    "        activations.append(res.mean(dim=1).detach().cpu())\n",
    "    \n",
    "    hooks = [(hook_name, hook_fn)]\n",
    "    \n",
    "    # Process texts in batches\n",
    "    for i in range(0, len(texts), batch_size):\n",
    "        batch_texts = texts[i:i+batch_size]\n",
    "        with torch.no_grad():\n",
    "            _ = model.run_with_hooks(batch_texts, fwd_hooks=hooks)\n",
    "        # Clear cache between batches\n",
    "        torch.cuda.empty_cache()\n",
    "    \n",
    "    # Concatenate all batch activations (each of shape [batch_size, hidden_dim])\n",
    "    return torch.cat(activations, dim=0).numpy()\n",
    "\n",
    "def extract_final_activation_batched(model, texts, batch_size=10):\n",
    "    final_layer = model.cfg.n_layers - 1\n",
    "    return extract_activation_batched(model, texts, final_layer, batch_size=batch_size)\n",
    "\n",
    "# -------------------------------\n",
    "# Extract activations in batches for each model\n",
    "print(\"Extracting activations for the base model...\")\n",
    "base_layer9 = extract_activation_batched(base_model, texts, layer_num=9, batch_size=10)\n",
    "base_final = extract_final_activation_batched(base_model, texts, batch_size=10)\n",
    "\n",
    "print(\"Extracting activations for the finetuned model (3126)...\")\n",
    "finetuned_layer9 = extract_activation_batched(finetuned_model, texts, layer_num=9, batch_size=10)\n",
    "finetuned_final = extract_final_activation_batched(finetuned_model, texts, batch_size=10)\n",
    "\n",
    "# -------------------------------\n",
    "# Procrustes Alignment Analysis\n",
    "\n",
    "# For Layer 9 representations:\n",
    "R_layer9, scale_layer9 = orthogonal_procrustes(finetuned_layer9, base_layer9)\n",
    "finetuned_layer9_aligned = finetuned_layer9.dot(R_layer9) * scale_layer9\n",
    "error_layer9 = np.linalg.norm(base_layer9 - finetuned_layer9_aligned, 'fro')\n",
    "print(\"Procrustes error for Layer 9 representations:\", error_layer9)\n",
    "\n",
    "# For Final Hidden State representations:\n",
    "R_final, scale_final = orthogonal_procrustes(finetuned_final, base_final)\n",
    "finetuned_final_aligned = finetuned_final.dot(R_final) * scale_final\n",
    "error_final = np.linalg.norm(base_final - finetuned_final_aligned, 'fro')\n",
    "print(\"Procrustes error for Final Hidden State representations:\", error_final)\n"
   ]
  },
  {
   "cell_type": "code",
   "execution_count": 2,
   "metadata": {},
   "outputs": [
    {
     "name": "stderr",
     "output_type": "stream",
     "text": [
      "huggingface/tokenizers: The current process just got forked, after parallelism has already been used. Disabling parallelism to avoid deadlocks...\n",
      "To disable this warning, you can either:\n",
      "\t- Avoid using `tokenizers` before the fork if possible\n",
      "\t- Explicitly set the environment variable TOKENIZERS_PARALLELISM=(true | false)\n"
     ]
    },
    {
     "name": "stdout",
     "output_type": "stream",
     "text": [
      "Collecting pot\n",
      "  Downloading POT-0.9.5-cp310-cp310-manylinux_2_17_x86_64.manylinux2014_x86_64.whl.metadata (34 kB)\n",
      "Requirement already satisfied: numpy>=1.16 in /system/conda/miniconda3/envs/cloudspace/lib/python3.10/site-packages (from pot) (1.26.4)\n",
      "Requirement already satisfied: scipy>=1.6 in /system/conda/miniconda3/envs/cloudspace/lib/python3.10/site-packages (from pot) (1.11.4)\n",
      "Downloading POT-0.9.5-cp310-cp310-manylinux_2_17_x86_64.manylinux2014_x86_64.whl (865 kB)\n",
      "\u001b[2K   \u001b[90m━━━━━━━━━━━━━━━━━━━━━━━━━━━━━━━━━━━━━━━\u001b[0m \u001b[32m865.6/865.6 kB\u001b[0m \u001b[31m104.5 MB/s\u001b[0m eta \u001b[36m0:00:00\u001b[0m\n",
      "\u001b[?25hInstalling collected packages: pot\n",
      "Successfully installed pot-0.9.5\n"
     ]
    }
   ],
   "source": [
    "!pip install pot"
   ]
  },
  {
   "cell_type": "code",
   "execution_count": 3,
   "metadata": {},
   "outputs": [
    {
     "name": "stdout",
     "output_type": "stream",
     "text": [
      "Gromov-Wasserstein distance for Layer 9 representations: 179437.97688850295\n",
      "Gromov-Wasserstein distance for Final Hidden State representations: 810213.3351535274\n"
     ]
    }
   ],
   "source": [
    "import ot\n",
    "import numpy as np\n",
    "\n",
    "def gw_alignment(X_base, X_finetuned):\n",
    "    \"\"\"\n",
    "    Computes the Gromov-Wasserstein distance between two sets of representations.\n",
    "    X_base: numpy array of shape (n_samples, d)\n",
    "    X_finetuned: numpy array of shape (n_samples, d)\n",
    "    \n",
    "    Returns:\n",
    "      gw_distance: the GW distance (scalar)\n",
    "      log: a log dictionary from POT with additional details.\n",
    "    \"\"\"\n",
    "    # Compute pairwise squared Euclidean distance matrices for each set\n",
    "    D_base = ot.dist(X_base, X_base, metric='euclidean') ** 2\n",
    "    D_finetuned = ot.dist(X_finetuned, X_finetuned, metric='euclidean') ** 2\n",
    "    \n",
    "    n = X_base.shape[0]\n",
    "    # Uniform weights on the samples\n",
    "    p = np.ones(n) / n\n",
    "    q = np.ones(n) / n\n",
    "    \n",
    "    # Compute GW distance using squared loss; log=True returns additional info.\n",
    "    gw_distance, log = ot.gromov.gromov_wasserstein2(\n",
    "        D_finetuned, D_base, p, q, loss_fun='square_loss', log=True\n",
    "    )\n",
    "    return gw_distance, log\n",
    "\n",
    "# --- Assuming you have already extracted activations ---\n",
    "# Variables:\n",
    "#    base_layer9, finetuned_layer9  : representations from layer 9 (numpy arrays)\n",
    "#    base_final, finetuned_final    : representations from final hidden state\n",
    "\n",
    "# Compute GW alignment for layer 9 representations\n",
    "gw_distance_layer9, log_layer9 = gw_alignment(base_layer9, finetuned_layer9)\n",
    "print(\"Gromov-Wasserstein distance for Layer 9 representations:\", gw_distance_layer9)\n",
    "\n",
    "# Compute GW alignment for final hidden state representations\n",
    "gw_distance_final, log_final = gw_alignment(base_final, finetuned_final)\n",
    "print(\"Gromov-Wasserstein distance for Final Hidden State representations:\", gw_distance_final)\n"
   ]
  },
  {
   "cell_type": "code",
   "execution_count": 5,
   "metadata": {},
   "outputs": [
    {
     "name": "stdout",
     "output_type": "stream",
     "text": [
      "Using device: cuda\n",
      "Loading Base Model...\n",
      "Loading Finetuned Model...\n"
     ]
    },
    {
     "name": "stderr",
     "output_type": "stream",
     "text": [
      "/home/zeus/miniconda3/envs/cloudspace/lib/python3.10/site-packages/transformers/generation/configuration_utils.py:818: UserWarning: `return_dict_in_generate` is NOT set to `True`, but `output_hidden_states` is. When `return_dict_in_generate` is not `True`, `output_hidden_states` is ignored.\n",
      "  warnings.warn(\n",
      "Evaluating: 100%|██████████| 200/200 [00:03<00:00, 59.13it/s]"
     ]
    },
    {
     "name": "stdout",
     "output_type": "stream",
     "text": [
      "Plugged Model Accuracy: 95.00%\n"
     ]
    },
    {
     "name": "stderr",
     "output_type": "stream",
     "text": [
      "\n"
     ]
    }
   ],
   "source": [
    "import torch\n",
    "from transformers import AutoModelForCausalLM, AutoTokenizer\n",
    "from datasets import load_dataset\n",
    "import tqdm\n",
    "\n",
    "device = torch.device(\"cuda\" if torch.cuda.is_available() else \"cpu\")\n",
    "print(f\"Using device: {device}\")\n",
    "\n",
    "# -----------------------------\n",
    "# Step 1: Load IMDb Test Dataset\n",
    "# -----------------------------\n",
    "test_dataset = load_dataset(\"imdb\", split=\"test\")\n",
    "sample_size = 200  # Adjust as needed\n",
    "test_subset = test_dataset.select(range(sample_size))\n",
    "\n",
    "# -----------------------------\n",
    "# Step 2: Load Tokenizer\n",
    "# -----------------------------\n",
    "tokenizer = AutoTokenizer.from_pretrained(\"gpt2\")\n",
    "if tokenizer.pad_token is None:\n",
    "    tokenizer.pad_token = tokenizer.eos_token\n",
    "\n",
    "# -----------------------------\n",
    "# Step 3: Define the classification function that plugs in final hidden state\n",
    "# -----------------------------\n",
    "def classify_review_plugged(base_model, finetuned_model, tokenizer, review_text):\n",
    "    \"\"\"\n",
    "    Creates a prompt from the review text, computes the final hidden state using the finetuned model,\n",
    "    plugs that hidden state into the base model's LM head to compute logits, and then returns 1 if the logit\n",
    "    for \" positive\" is higher than for \" negative\", else returns 0.\n",
    "    \"\"\"\n",
    "    prompt = f\"Review: {review_text} Sentiment:\"\n",
    "    # Encode the prompt with truncation (max_length=1024)\n",
    "    input_ids = tokenizer.encode(prompt, return_tensors=\"pt\", truncation=True, max_length=1024).to(device)\n",
    "    \n",
    "    # Get final hidden state from the finetuned model\n",
    "    with torch.no_grad():\n",
    "        finetuned_outputs = finetuned_model(input_ids, output_hidden_states=True, return_dict=True)\n",
    "        # Extract the final hidden state (shape: [batch, seq_len, hidden_dim])\n",
    "        hidden_state = finetuned_outputs.hidden_states[-1]\n",
    "    \n",
    "    # Plug the final hidden state into the base model's LM head\n",
    "    with torch.no_grad():\n",
    "        # The lm_head expects a tensor of shape [batch, seq_len, hidden_dim] and returns logits [batch, seq_len, vocab_size]\n",
    "        logits = base_model.lm_head(hidden_state)\n",
    "    \n",
    "    # Use the logits of the last token\n",
    "    logits = logits[0, -1, :]\n",
    "    \n",
    "    # Candidate tokens (with a leading space) for \" positive\" and \" negative\"\n",
    "    pos_ids = tokenizer.encode(\" positive\", add_special_tokens=False)\n",
    "    neg_ids = tokenizer.encode(\" negative\", add_special_tokens=False)\n",
    "    \n",
    "    vocab_size = logits.size(0)\n",
    "    pos_log_prob = logits[pos_ids[0]].item() if pos_ids and pos_ids[0] < vocab_size else float(\"-inf\")\n",
    "    neg_log_prob = logits[neg_ids[0]].item() if neg_ids and neg_ids[0] < vocab_size else float(\"-inf\")\n",
    "    \n",
    "    return 1 if pos_log_prob > neg_log_prob else 0\n",
    "\n",
    "# -----------------------------\n",
    "# Step 4: Define Evaluation Function\n",
    "# -----------------------------\n",
    "def evaluate_plugged(base_model, finetuned_model, tokenizer, dataset):\n",
    "    correct = 0\n",
    "    total = 0\n",
    "    for example in tqdm.tqdm(dataset, desc=\"Evaluating\"):\n",
    "        review_text = example[\"text\"]\n",
    "        true_label = example[\"label\"]  # 0 for negative, 1 for positive\n",
    "        try:\n",
    "            pred_label = classify_review_plugged(base_model, finetuned_model, tokenizer, review_text)\n",
    "        except Exception as e:\n",
    "            print(\"Error processing review; defaulting to label 0:\", e)\n",
    "            pred_label = 0\n",
    "        correct += int(pred_label == true_label)\n",
    "        total += 1\n",
    "    return correct / total if total > 0 else 0\n",
    "\n",
    "# -----------------------------\n",
    "# Step 5: Load Base and Finetuned Models (with output_hidden_states enabled)\n",
    "# -----------------------------\n",
    "print(\"Loading Base Model...\")\n",
    "base_model = AutoModelForCausalLM.from_pretrained(\"gpt2\", output_hidden_states=True)\n",
    "base_model.config.pad_token_id = base_model.config.eos_token_id\n",
    "base_model.to(device)\n",
    "base_model.eval()\n",
    "\n",
    "print(\"Loading Finetuned Model...\")\n",
    "finetuned_model_path = \"./results/checkpoint-3126\"  \n",
    "finetuned_model = AutoModelForCausalLM.from_pretrained(finetuned_model_path, output_hidden_states=True)\n",
    "finetuned_model.config.pad_token_id = finetuned_model.config.eos_token_id\n",
    "finetuned_model.to(device)\n",
    "finetuned_model.eval()\n",
    "\n",
    "# -----------------------------\n",
    "# Step 6: Evaluate the Plugged Model Accuracy\n",
    "# -----------------------------\n",
    "plugged_accuracy = evaluate_plugged(base_model, finetuned_model, tokenizer, test_subset)\n",
    "print(f\"Plugged Model Accuracy: {plugged_accuracy * 100:.2f}%\")\n"
   ]
  },
  {
   "cell_type": "code",
   "execution_count": 7,
   "metadata": {},
   "outputs": [
    {
     "name": "stdout",
     "output_type": "stream",
     "text": [
      "Using device: cuda\n"
     ]
    },
    {
     "name": "stdout",
     "output_type": "stream",
     "text": [
      "Loading Base Model...\n",
      "Loading Finetuned Model...\n"
     ]
    },
    {
     "name": "stderr",
     "output_type": "stream",
     "text": [
      "/home/zeus/miniconda3/envs/cloudspace/lib/python3.10/site-packages/transformers/generation/configuration_utils.py:818: UserWarning: `return_dict_in_generate` is NOT set to `True`, but `output_hidden_states` is. When `return_dict_in_generate` is not `True`, `output_hidden_states` is ignored.\n",
      "  warnings.warn(\n"
     ]
    },
    {
     "name": "stdout",
     "output_type": "stream",
     "text": [
      "Number of transformer blocks: 12\n"
     ]
    },
    {
     "name": "stderr",
     "output_type": "stream",
     "text": [
      "Evaluating: 100%|██████████| 200/200 [00:10<00:00, 18.75it/s]\n"
     ]
    },
    {
     "data": {
      "image/png": "[encoded data removed]",
      "text/plain": [
       "<Figure size 1000x600 with 1 Axes>"
      ]
     },
     "metadata": {},
     "output_type": "display_data"
    },
    {
     "name": "stdout",
     "output_type": "stream",
     "text": [
      "Layer 1: Accuracy = 5.00%\n",
      "Layer 2: Accuracy = 1.50%\n",
      "Layer 3: Accuracy = 1.00%\n",
      "Layer 4: Accuracy = 1.00%\n",
      "Layer 5: Accuracy = 3.50%\n",
      "Layer 6: Accuracy = 0.50%\n",
      "Layer 7: Accuracy = 0.50%\n",
      "Layer 8: Accuracy = 8.50%\n",
      "Layer 9: Accuracy = 59.50%\n",
      "Layer 10: Accuracy = 82.00%\n",
      "Layer 11: Accuracy = 88.00%\n",
      "Layer 12: Accuracy = 95.00%\n"
     ]
    }
   ],
   "source": [
    "import torch\n",
    "from transformers import AutoModelForCausalLM, AutoTokenizer\n",
    "from datasets import load_dataset\n",
    "import tqdm\n",
    "import matplotlib.pyplot as plt\n",
    "\n",
    "device = torch.device(\"cuda\" if torch.cuda.is_available() else \"cpu\")\n",
    "print(f\"Using device: {device}\")\n",
    "\n",
    "# -----------------------------\n",
    "# Step 1: Load IMDb Test Dataset (a small subset for speed)\n",
    "# -----------------------------\n",
    "test_dataset = load_dataset(\"imdb\", split=\"test\")\n",
    "sample_size = 200  # You can adjust this sample size\n",
    "test_subset = test_dataset.select(range(sample_size))\n",
    "\n",
    "# -----------------------------\n",
    "# Step 2: Load Tokenizer\n",
    "# -----------------------------\n",
    "tokenizer = AutoTokenizer.from_pretrained(\"gpt2\")\n",
    "if tokenizer.pad_token is None:\n",
    "    tokenizer.pad_token = tokenizer.eos_token\n",
    "\n",
    "# -----------------------------\n",
    "# Step 3: Load Base and Finetuned Models with output_hidden_states enabled\n",
    "# -----------------------------\n",
    "print(\"Loading Base Model...\")\n",
    "base_model = AutoModelForCausalLM.from_pretrained(\"gpt2\", output_hidden_states=True)\n",
    "base_model.config.pad_token_id = base_model.config.eos_token_id\n",
    "base_model.to(device)\n",
    "base_model.eval()\n",
    "\n",
    "print(\"Loading Finetuned Model...\")\n",
    "finetuned_model_path = \"./results/checkpoint-3126\"  # Adjust to your checkpoint directory\n",
    "finetuned_model = AutoModelForCausalLM.from_pretrained(finetuned_model_path, output_hidden_states=True)\n",
    "finetuned_model.config.pad_token_id = finetuned_model.config.eos_token_id\n",
    "finetuned_model.to(device)\n",
    "finetuned_model.eval()\n",
    "\n",
    "# -----------------------------\n",
    "# Step 4: Define a function to get predictions from each transformer block\n",
    "# -----------------------------\n",
    "def classify_review_all_layers(base_model, finetuned_model, tokenizer, review_text):\n",
    "    \"\"\"\n",
    "    For a given review text, this function constructs a prompt,\n",
    "    passes it through the finetuned model to obtain hidden states for all layers,\n",
    "    and then for each block (transformer layer) plugs its output into the base model's LM head.\n",
    "    \n",
    "    It returns a list of predictions (0 or 1), one for each transformer block.\n",
    "    We assume that when output_hidden_states=True, the returned tuple has length (num_hidden_layers + 1),\n",
    "    with index 0 = input embeddings, and indices 1,...,num_hidden_layers = block outputs.\n",
    "    \"\"\"\n",
    "    prompt = f\"Review: {review_text} Sentiment:\"\n",
    "    input_ids = tokenizer.encode(prompt, return_tensors=\"pt\", truncation=True, max_length=1024).to(device)\n",
    "    \n",
    "    with torch.no_grad():\n",
    "        # Get all hidden states from the finetuned model.\n",
    "        outputs = finetuned_model(input_ids, output_hidden_states=True, return_dict=True)\n",
    "    hidden_states = outputs.hidden_states  # Tuple of length num_hidden_layers+1\n",
    "    \n",
    "    # We'll use each block's output (i.e. indices 1 to num_hidden_layers) for plug-and-play.\n",
    "    predictions = []\n",
    "    # Candidate tokens for classification (note the leading space)\n",
    "    pos_ids = tokenizer.encode(\" positive\", add_special_tokens=False)\n",
    "    neg_ids = tokenizer.encode(\" negative\", add_special_tokens=False)\n",
    "    \n",
    "    # Loop over each transformer block's output\n",
    "    for layer_idx in range(1, len(hidden_states)):\n",
    "        h = hidden_states[layer_idx]  # shape: [1, seq_len, hidden_dim]\n",
    "        # Plug h into the base model's LM head\n",
    "        with torch.no_grad():\n",
    "            logits = base_model.lm_head(h)  # shape: [1, seq_len, vocab_size]\n",
    "        # Use logits from the last token\n",
    "        last_logits = logits[0, -1, :]\n",
    "        vocab_size = last_logits.size(0)\n",
    "        pos_logit = last_logits[pos_ids[0]].item() if pos_ids and pos_ids[0] < vocab_size else float(\"-inf\")\n",
    "        neg_logit = last_logits[neg_ids[0]].item() if neg_ids and neg_ids[0] < vocab_size else float(\"-inf\")\n",
    "        pred = 1 if pos_logit > neg_logit else 0\n",
    "        predictions.append(pred)\n",
    "    return predictions\n",
    "\n",
    "# -----------------------------\n",
    "# Step 5: Evaluate accuracy layer-by-layer on test subset\n",
    "# -----------------------------\n",
    "# Determine number of transformer blocks using the correct attribute\n",
    "n_blocks = finetuned_model.config.num_hidden_layers  # Use 'num_hidden_layers'\n",
    "print(f\"Number of transformer blocks: {n_blocks}\")\n",
    "\n",
    "# We'll accumulate per-layer correct counts.\n",
    "correct_counts = [0] * n_blocks\n",
    "total_count = 0\n",
    "\n",
    "for example in tqdm.tqdm(test_subset, desc=\"Evaluating\"):\n",
    "    review_text = example[\"text\"]\n",
    "    true_label = example[\"label\"]  # 0 for negative, 1 for positive\n",
    "    try:\n",
    "        preds = classify_review_all_layers(base_model, finetuned_model, tokenizer, review_text)\n",
    "    except Exception as e:\n",
    "        print(\"Error processing review; skipping. Error:\", e)\n",
    "        continue\n",
    "    # preds is a list of length n_blocks with predictions for each block.\n",
    "    for i, pred in enumerate(preds):\n",
    "        if pred == true_label:\n",
    "            correct_counts[i] += 1\n",
    "    total_count += 1\n",
    "\n",
    "# Compute accuracy for each block\n",
    "layer_accuracies = [correct / total_count for correct in correct_counts]\n",
    "\n",
    "# -----------------------------\n",
    "# Step 6: Plot the accuracy per transformer block\n",
    "# -----------------------------\n",
    "plt.figure(figsize=(10, 6))\n",
    "plt.plot(range(1, n_blocks + 1), layer_accuracies, marker='o')\n",
    "plt.xlabel(\"Transformer Block (Layer) Index\")\n",
    "plt.ylabel(\"Classification Accuracy\")\n",
    "plt.title(\"Plug-and-Play Accuracy: Finetuned Hidden State from each Block plugged into Base LM Head\")\n",
    "plt.xticks(range(1, n_blocks + 1))\n",
    "plt.grid(True)\n",
    "plt.show()\n",
    "\n",
    "# Print accuracies for reference\n",
    "for i, acc in enumerate(layer_accuracies, start=1):\n",
    "    print(f\"Layer {i}: Accuracy = {acc * 100:.2f}%\")\n"
   ]
  },
  {
   "cell_type": "code",
   "execution_count": 8,
   "metadata": {},
   "outputs": [
    {
     "name": "stdout",
     "output_type": "stream",
     "text": [
      "Using device: cuda\n",
      "Loading Base Model...\n",
      "Loading Finetuned Model...\n"
     ]
    },
    {
     "name": "stderr",
     "output_type": "stream",
     "text": [
      "Evaluating: 100%|██████████| 200/200 [00:02<00:00, 80.10it/s]\n"
     ]
    },
    {
     "name": "stdout",
     "output_type": "stream",
     "text": [
      "Base Model Accuracy: 45.50%\n",
      "Number of transformer blocks (layers): 12\n",
      "\n",
      "Evaluating with layer 1 replaced...\n"
     ]
    },
    {
     "name": "stderr",
     "output_type": "stream",
     "text": [
      "Evaluating: 100%|██████████| 200/200 [00:02<00:00, 80.03it/s]\n"
     ]
    },
    {
     "name": "stdout",
     "output_type": "stream",
     "text": [
      "Layer 1 replaced accuracy: 47.50%\n",
      "\n",
      "Evaluating with layer 2 replaced...\n"
     ]
    },
    {
     "name": "stderr",
     "output_type": "stream",
     "text": [
      "Evaluating: 100%|██████████| 200/200 [00:02<00:00, 80.31it/s]\n"
     ]
    },
    {
     "name": "stdout",
     "output_type": "stream",
     "text": [
      "Layer 2 replaced accuracy: 46.00%\n",
      "\n",
      "Evaluating with layer 3 replaced...\n"
     ]
    },
    {
     "name": "stderr",
     "output_type": "stream",
     "text": [
      "Evaluating: 100%|██████████| 200/200 [00:02<00:00, 80.08it/s]\n"
     ]
    },
    {
     "name": "stdout",
     "output_type": "stream",
     "text": [
      "Layer 3 replaced accuracy: 41.00%\n",
      "\n",
      "Evaluating with layer 4 replaced...\n"
     ]
    },
    {
     "name": "stderr",
     "output_type": "stream",
     "text": [
      "Evaluating: 100%|██████████| 200/200 [00:02<00:00, 79.96it/s]\n"
     ]
    },
    {
     "name": "stdout",
     "output_type": "stream",
     "text": [
      "Layer 4 replaced accuracy: 50.50%\n",
      "\n",
      "Evaluating with layer 5 replaced...\n"
     ]
    },
    {
     "name": "stderr",
     "output_type": "stream",
     "text": [
      "Evaluating: 100%|██████████| 200/200 [00:02<00:00, 79.81it/s]\n"
     ]
    },
    {
     "name": "stdout",
     "output_type": "stream",
     "text": [
      "Layer 5 replaced accuracy: 51.00%\n",
      "\n",
      "Evaluating with layer 6 replaced...\n"
     ]
    },
    {
     "name": "stderr",
     "output_type": "stream",
     "text": [
      "Evaluating: 100%|██████████| 200/200 [00:02<00:00, 80.06it/s]\n"
     ]
    },
    {
     "name": "stdout",
     "output_type": "stream",
     "text": [
      "Layer 6 replaced accuracy: 50.00%\n",
      "\n",
      "Evaluating with layer 7 replaced...\n"
     ]
    },
    {
     "name": "stderr",
     "output_type": "stream",
     "text": [
      "Evaluating: 100%|██████████| 200/200 [00:02<00:00, 79.60it/s]\n"
     ]
    },
    {
     "name": "stdout",
     "output_type": "stream",
     "text": [
      "Layer 7 replaced accuracy: 63.00%\n",
      "\n",
      "Evaluating with layer 8 replaced...\n"
     ]
    },
    {
     "name": "stderr",
     "output_type": "stream",
     "text": [
      "Evaluating: 100%|██████████| 200/200 [00:02<00:00, 79.54it/s]\n"
     ]
    },
    {
     "name": "stdout",
     "output_type": "stream",
     "text": [
      "Layer 8 replaced accuracy: 61.50%\n",
      "\n",
      "Evaluating with layer 9 replaced...\n"
     ]
    },
    {
     "name": "stderr",
     "output_type": "stream",
     "text": [
      "Evaluating: 100%|██████████| 200/200 [00:02<00:00, 79.51it/s]\n"
     ]
    },
    {
     "name": "stdout",
     "output_type": "stream",
     "text": [
      "Layer 9 replaced accuracy: 59.00%\n",
      "\n",
      "Evaluating with layer 10 replaced...\n"
     ]
    },
    {
     "name": "stderr",
     "output_type": "stream",
     "text": [
      "Evaluating: 100%|██████████| 200/200 [00:02<00:00, 79.65it/s]\n"
     ]
    },
    {
     "name": "stdout",
     "output_type": "stream",
     "text": [
      "Layer 10 replaced accuracy: 57.50%\n",
      "\n",
      "Evaluating with layer 11 replaced...\n"
     ]
    },
    {
     "name": "stderr",
     "output_type": "stream",
     "text": [
      "Evaluating: 100%|██████████| 200/200 [00:02<00:00, 79.50it/s]\n"
     ]
    },
    {
     "name": "stdout",
     "output_type": "stream",
     "text": [
      "Layer 11 replaced accuracy: 56.00%\n",
      "\n",
      "Evaluating with layer 12 replaced...\n"
     ]
    },
    {
     "name": "stderr",
     "output_type": "stream",
     "text": [
      "Evaluating: 100%|██████████| 200/200 [00:02<00:00, 78.84it/s]\n"
     ]
    },
    {
     "name": "stdout",
     "output_type": "stream",
     "text": [
      "Layer 12 replaced accuracy: 41.00%\n"
     ]
    },
    {
     "data": {
      "image/png": "[encoded data removed]",
      "text/plain": [
       "<Figure size 1000x600 with 1 Axes>"
      ]
     },
     "metadata": {},
     "output_type": "display_data"
    },
    {
     "name": "stdout",
     "output_type": "stream",
     "text": [
      "Layer 1: Accuracy = 47.50%\n",
      "Layer 2: Accuracy = 46.00%\n",
      "Layer 3: Accuracy = 41.00%\n",
      "Layer 4: Accuracy = 50.50%\n",
      "Layer 5: Accuracy = 51.00%\n",
      "Layer 6: Accuracy = 50.00%\n",
      "Layer 7: Accuracy = 63.00%\n",
      "Layer 8: Accuracy = 61.50%\n",
      "Layer 9: Accuracy = 59.00%\n",
      "Layer 10: Accuracy = 57.50%\n",
      "Layer 11: Accuracy = 56.00%\n",
      "Layer 12: Accuracy = 41.00%\n"
     ]
    }
   ],
   "source": [
    "import torch\n",
    "from transformers import AutoModelForCausalLM, AutoTokenizer\n",
    "from datasets import load_dataset\n",
    "import tqdm\n",
    "import matplotlib.pyplot as plt\n",
    "import copy\n",
    "\n",
    "device = torch.device(\"cuda\" if torch.cuda.is_available() else \"cpu\")\n",
    "print(f\"Using device: {device}\")\n",
    "\n",
    "# -----------------------------\n",
    "# Step 1: Load IMDb Test Dataset (small subset for speed)\n",
    "# -----------------------------\n",
    "test_dataset = load_dataset(\"imdb\", split=\"test\")\n",
    "sample_size = 200  # Adjust as needed\n",
    "test_subset = test_dataset.select(range(sample_size))\n",
    "\n",
    "# -----------------------------\n",
    "# Step 2: Load Tokenizer\n",
    "# -----------------------------\n",
    "tokenizer = AutoTokenizer.from_pretrained(\"gpt2\")\n",
    "if tokenizer.pad_token is None:\n",
    "    tokenizer.pad_token = tokenizer.eos_token\n",
    "\n",
    "# -----------------------------\n",
    "# Step 3: Define classification function\n",
    "# -----------------------------\n",
    "def classify_review(model, tokenizer, review_text):\n",
    "    \"\"\"\n",
    "    Given a review text, constructs a prompt and returns a sentiment prediction:\n",
    "      1 if the logit for \" positive\" is higher than for \" negative\",\n",
    "      else 0.\n",
    "    \"\"\"\n",
    "    prompt = f\"Review: {review_text} Sentiment:\"\n",
    "    input_ids = tokenizer.encode(prompt, return_tensors=\"pt\", truncation=True, max_length=1024).to(device)\n",
    "    \n",
    "    with torch.no_grad():\n",
    "        outputs = model(input_ids)\n",
    "    logits = outputs.logits[0, -1, :]  # logits for the last token\n",
    "    \n",
    "    # Get candidate token ids (with a leading space)\n",
    "    pos_ids = tokenizer.encode(\" positive\", add_special_tokens=False)\n",
    "    neg_ids = tokenizer.encode(\" negative\", add_special_tokens=False)\n",
    "    \n",
    "    vocab_size = logits.size(0)\n",
    "    pos_log_prob = logits[pos_ids[0]].item() if pos_ids and pos_ids[0] < vocab_size else float(\"-inf\")\n",
    "    neg_log_prob = logits[neg_ids[0]].item() if neg_ids and neg_ids[0] < vocab_size else float(\"-inf\")\n",
    "    \n",
    "    return 1 if pos_log_prob > neg_log_prob else 0\n",
    "\n",
    "# -----------------------------\n",
    "# Step 4: Define evaluation function\n",
    "# -----------------------------\n",
    "def evaluate_model(model, tokenizer, dataset):\n",
    "    correct = 0\n",
    "    total = 0\n",
    "    for example in tqdm.tqdm(dataset, desc=\"Evaluating\"):\n",
    "        review_text = example[\"text\"]\n",
    "        true_label = example[\"label\"]  # 0 for negative, 1 for positive\n",
    "        try:\n",
    "            pred_label = classify_review(model, tokenizer, review_text)\n",
    "        except Exception as e:\n",
    "            print(\"Error processing review:\", e)\n",
    "            pred_label = 0\n",
    "        if pred_label == true_label:\n",
    "            correct += 1\n",
    "        total += 1\n",
    "    return correct / total if total > 0 else 0\n",
    "\n",
    "# -----------------------------\n",
    "# Step 5: Load Base and Finetuned Models\n",
    "# -----------------------------\n",
    "print(\"Loading Base Model...\")\n",
    "base_model = AutoModelForCausalLM.from_pretrained(\"gpt2\")\n",
    "base_model.config.pad_token_id = base_model.config.eos_token_id\n",
    "base_model.to(device)\n",
    "base_model.eval()\n",
    "\n",
    "print(\"Loading Finetuned Model...\")\n",
    "finetuned_model_path = \"./results/checkpoint-3126\"  # Update this path as needed\n",
    "finetuned_model = AutoModelForCausalLM.from_pretrained(finetuned_model_path)\n",
    "finetuned_model.config.pad_token_id = finetuned_model.config.eos_token_id\n",
    "finetuned_model.to(device)\n",
    "finetuned_model.eval()\n",
    "\n",
    "# -----------------------------\n",
    "# Step 6: Evaluate the Base Model for reference\n",
    "# -----------------------------\n",
    "base_accuracy = evaluate_model(base_model, tokenizer, test_subset)\n",
    "print(f\"Base Model Accuracy: {base_accuracy * 100:.2f}%\")\n",
    "\n",
    "# -----------------------------\n",
    "# Step 7: For each layer, replace the base model's layer with the corresponding finetuned model's layer, then evaluate.\n",
    "# -----------------------------\n",
    "num_layers = base_model.config.num_hidden_layers  # GPT-2 uses \"num_hidden_layers\"\n",
    "print(f\"Number of transformer blocks (layers): {num_layers}\")\n",
    "\n",
    "layer_accuracies = []\n",
    "\n",
    "for i in range(num_layers):\n",
    "    print(f\"\\nEvaluating with layer {i+1} replaced...\")\n",
    "    # Create a deep copy of the base model\n",
    "    new_model = copy.deepcopy(base_model)\n",
    "    # Replace layer i in the new_model with the corresponding layer from the finetuned model.\n",
    "    new_model.transformer.h[i] = copy.deepcopy(finetuned_model.transformer.h[i])\n",
    "    new_model.to(device)\n",
    "    new_model.eval()\n",
    "    \n",
    "    acc = evaluate_model(new_model, tokenizer, test_subset)\n",
    "    layer_accuracies.append(acc)\n",
    "    print(f\"Layer {i+1} replaced accuracy: {acc * 100:.2f}%\")\n",
    "    \n",
    "    # Clean up GPU memory between iterations\n",
    "    del new_model\n",
    "    torch.cuda.empty_cache()\n",
    "\n",
    "# -----------------------------\n",
    "# Step 8: Plot the per-layer accuracy\n",
    "# -----------------------------\n",
    "plt.figure(figsize=(10, 6))\n",
    "plt.plot(range(1, num_layers+1), [acc*100 for acc in layer_accuracies], marker='o')\n",
    "plt.xlabel(\"Transformer Block (Layer) Index\")\n",
    "plt.ylabel(\"Plug-and-Play Accuracy (%)\")\n",
    "plt.title(\"Accuracy with Single Layer Replacement (Finetuned -> Base)\")\n",
    "plt.xticks(range(1, num_layers+1))\n",
    "plt.grid(True)\n",
    "plt.show()\n",
    "\n",
    "# Print per-layer accuracies\n",
    "for i, acc in enumerate(layer_accuracies, start=1):\n",
    "    print(f\"Layer {i}: Accuracy = {acc * 100:.2f}%\")\n"
   ]
  },
  {
   "cell_type": "code",
   "execution_count": 1,
   "metadata": {},
   "outputs": [
    {
     "name": "stdout",
     "output_type": "stream",
     "text": [
      "Using device: cuda\n",
      "Positive samples: 50, Negative samples: 50\n",
      "Total texts for activation extraction: 100\n",
      "Loaded pretrained model gpt2 into HookedTransformer\n",
      "Loaded pretrained model gpt2 into HookedTransformer\n",
      "Extracting final hidden state activations for the base model...\n",
      "Extracting final hidden state activations for the finetuned model...\n",
      "Procrustes error for Final Hidden State representations: 8484809700.0\n"
     ]
    }
   ],
   "source": [
    "import torch\n",
    "import numpy as np\n",
    "import ot  # pip install pot\n",
    "from datasets import load_dataset\n",
    "from scipy.linalg import orthogonal_procrustes\n",
    "from transformer_lens import HookedTransformer\n",
    "from transformers import AutoModelForCausalLM, AutoTokenizer\n",
    "from torch.utils.data import DataLoader\n",
    "\n",
    "# Set device (models are loaded on CPU; TransformerLens moves them to device)\n",
    "device = \"cuda\" if torch.cuda.is_available() else \"cpu\"\n",
    "print(f\"Using device: {device}\")\n",
    "\n",
    "# -------------------------------\n",
    "# Load tokenizer\n",
    "# -------------------------------\n",
    "tokenizer = AutoTokenizer.from_pretrained(\"gpt2\")\n",
    "if tokenizer.pad_token is None:\n",
    "    tokenizer.pad_token = tokenizer.eos_token\n",
    "\n",
    "# -------------------------------\n",
    "# Load IMDb dataset and filter a small validation subset for analysis\n",
    "# -------------------------------\n",
    "dataset = load_dataset(\"imdb\")\n",
    "\n",
    "def filter_by_label(dataset_split, label, max_samples=50):\n",
    "    filtered = [d for d in dataset_split if d[\"label\"] == label]\n",
    "    return filtered[:max_samples]\n",
    "\n",
    "# We use the 'test' split for analysis\n",
    "val_data = dataset[\"test\"]\n",
    "pos_samples = filter_by_label(val_data, 1, max_samples=50)\n",
    "neg_samples = filter_by_label(val_data, 0, max_samples=50)\n",
    "print(f\"Positive samples: {len(pos_samples)}, Negative samples: {len(neg_samples)}\")\n",
    "\n",
    "# Combine texts from positive and negative samples\n",
    "texts = [s[\"text\"] for s in pos_samples + neg_samples]\n",
    "print(f\"Total texts for activation extraction: {len(texts)}\")\n",
    "\n",
    "# -------------------------------\n",
    "# Define a function to load a model and wrap with TransformerLens\n",
    "# -------------------------------\n",
    "def load_tl_model(model_path):\n",
    "    hf_model = AutoModelForCausalLM.from_pretrained(model_path)\n",
    "    hf_model.config.pad_token_id = tokenizer.pad_token_id\n",
    "    tl_model = HookedTransformer.from_pretrained(\n",
    "        \"gpt2\",      # recognized alias for GPT-2\n",
    "        hf_model=hf_model,\n",
    "        device=device\n",
    "    )\n",
    "    tl_model.eval()\n",
    "    return tl_model\n",
    "\n",
    "# Define model paths\n",
    "model_paths = {\n",
    "    \"base\": \"gpt2\",                     # Base model from Hugging Face\n",
    "    \"3126\": \"./results/checkpoint-3126\", # Finetuned checkpoint at epoch 3126\n",
    "}\n",
    "\n",
    "# Load models\n",
    "base_model = load_tl_model(model_paths[\"base\"])\n",
    "finetuned_model = load_tl_model(model_paths[\"3126\"])\n",
    "\n",
    "# -------------------------------\n",
    "# Define batched activation extraction functions (for final hidden states)\n",
    "# -------------------------------\n",
    "def extract_activation_batched(model, texts, layer_num, batch_size=10):\n",
    "    activations = []\n",
    "    hook_name = f\"blocks.{layer_num}.hook_resid_pre\"\n",
    "    \n",
    "    def hook_fn(res, hook):\n",
    "        activations.append(res.mean(dim=1).detach().cpu())\n",
    "    \n",
    "    hooks = [(hook_name, hook_fn)]\n",
    "    \n",
    "    for i in range(0, len(texts), batch_size):\n",
    "        batch_texts = texts[i:i+batch_size]\n",
    "        with torch.no_grad():\n",
    "            _ = model.run_with_hooks(batch_texts, fwd_hooks=hooks)\n",
    "        torch.cuda.empty_cache()\n",
    "    \n",
    "    return torch.cat(activations, dim=0).numpy()\n",
    "\n",
    "def extract_final_activation_batched(model, texts, batch_size=10):\n",
    "    final_layer = model.cfg.n_layers - 1\n",
    "    return extract_activation_batched(model, texts, final_layer, batch_size=batch_size)\n",
    "\n",
    "# Extract final hidden state activations for both models\n",
    "print(\"Extracting final hidden state activations for the base model...\")\n",
    "base_final = extract_final_activation_batched(base_model, texts, batch_size=10)\n",
    "print(\"Extracting final hidden state activations for the finetuned model...\")\n",
    "finetuned_final = extract_final_activation_batched(finetuned_model, texts, batch_size=10)\n",
    "\n",
    "# -------------------------------\n",
    "# Compare Final Hidden States using Procrustes Analysis\n",
    "# -------------------------------\n",
    "R_final, scale_final = orthogonal_procrustes(finetuned_final, base_final)\n",
    "finetuned_final_aligned = finetuned_final.dot(R_final) * scale_final\n",
    "error_final = np.linalg.norm(base_final - finetuned_final_aligned, 'fro')\n",
    "print(\"Procrustes error for Final Hidden State representations:\", error_final)\n",
    "\n",
    "# -------------------------------\n",
    "# Compare LM Head (Linear Projection) Weights using the 'unembed' attribute\n",
    "# -------------------------------\n",
    "def compare_lm_head_weights(base_model, finetuned_model):\n",
    "    # In TransformerLens, the unembed object stores its weight in W_U.\n",
    "    base_head = base_model.unembed.W_U.data.cpu().numpy()\n",
    "    finetuned_head = finetuned_model.unembed.W_U.data.cpu().numpy()\n",
    "    # Use Procrustes to align finetuned LM head weights to base LM head weights.\n",
    "    R_head, scale_head = orthogonal_procrustes(finetuned_head, base_head)\n",
    "    finetuned_head_aligned = finetuned_head.dot(R_head) * scale_head\n",
    "    error_head = np.linalg.norm(base_head - finetuned_head_aligned, 'fro')\n",
    "    return error_head\n",
    "\n",
    "# Then, in your main code:\n",
    "lm_head_error = compare_lm_head_weights(base_model, finetuned_model)\n",
    "print(\"Procrustes error for LM Head (unembed) weights:\", lm_head_error)\n",
    "\n",
    "\n",
    "# -------------------------------\n",
    "# Also, compare using Gromov-Wasserstein (GW) distance for final hidden states\n",
    "# -------------------------------\n",
    "def gw_alignment(X, Y):\n",
    "    D_X = ot.dist(X, X, metric='euclidean') ** 2\n",
    "    D_Y = ot.dist(Y, Y, metric='euclidean') ** 2\n",
    "    n = X.shape[0]\n",
    "    p = np.ones(n) / n\n",
    "    q = np.ones(n) / n\n",
    "    gw_distance, log = ot.gromov.gromov_wasserstein2(\n",
    "        D_Y, D_X, p, q, loss_fun='square_loss', log=True\n",
    "    )\n",
    "    return gw_distance, log\n",
    "\n",
    "gw_distance_final, log_final = gw_alignment(base_final, finetuned_final)\n",
    "print(\"Gromov-Wasserstein distance for Final Hidden State representations:\", gw_distance_final)\n"
   ]
  },
  {
   "cell_type": "code",
   "execution_count": null,
   "metadata": {},
   "outputs": [],
   "source": []
  }
 ],
 "metadata": {
  "language_info": {
   "name": "python"
  }
 },
 "nbformat": 4,
 "nbformat_minor": 2
}
