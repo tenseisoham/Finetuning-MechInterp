{
 "cells": [
  {
   "cell_type": "markdown",
   "metadata": {},
   "source": [
    "# SAving all model chechkpoints for each epoch"
   ]
  },
  {
   "cell_type": "code",
   "execution_count": 1,
   "metadata": {},
   "outputs": [
    {
     "name": "stdout",
     "output_type": "stream",
     "text": [
      "Using device: cuda\n",
      "Model: gpt2, Parameters: 124.44M\n",
      "Train size: 25000, Val size: 5000\n",
      "Sample train: {'text': 'Review: I rented I AM CURIOUS-YELLOW from my video store because of all the controversy that surrounded it when it was first released in 1967. I also heard that at first it was seized by U.S. customs if it ever tried to enter this country, therefore being a fan of films considered \"controversial\" I really had to see this for myself.<br /><br />The plot is centered around a young Swedish drama student named Lena who wants to learn everything she can about life. In particular she wants to focus her attentions to making some sort of documentary on what the average Swede thought about certain political issues such as the Vietnam War and race issues in the United States. In between asking politicians and ordinary denizens of Stockholm about their opinions on politics, she has sex with her drama teacher, classmates, and married men.<br /><br />What kills me about I AM CURIOUS-YELLOW is that 40 years ago, this was considered pornographic. Really, the sex and nudity scenes are few and far between, even then it\\'s not shot like some cheaply made porno. While my countrymen mind find it shocking, in reality sex and nudity are a major staple in Swedish cinema. Even Ingmar Bergman, arguably their answer to good old boy John Ford, had sex scenes in his films.<br /><br />I do commend the filmmakers for the fact that any sex shown in the film is shown for artistic purposes rather than just to shock people and make money to be shown in pornographic theaters in America. I AM CURIOUS-YELLOW is a good film for anyone wanting to study the meat and potatoes (no pun intended) of Swedish cinema. But really, this film doesn\\'t have much of a plot. Sentiment: negative', 'label': 0}\n",
      "Sample val: {'text': 'Review: I love sci-fi and am willing to put up with a lot. Sci-fi movies/TV are usually underfunded, under-appreciated and misunderstood. I tried to like this, I really did, but it is to good TV sci-fi as Babylon 5 is to Star Trek (the original). Silly prosthetics, cheap cardboard sets, stilted dialogues, CG that doesn\\'t match the background, and painfully one-dimensional characters cannot be overcome with a \\'sci-fi\\' setting. (I\\'m sure there are those of you out there who think Babylon 5 is good sci-fi TV. It\\'s not. It\\'s clichéd and uninspiring.) While US viewers might like emotion and character development, sci-fi is a genre that does not take itself seriously (cf. Star Trek). It may treat important issues, yet not as a serious philosophy. It\\'s really difficult to care about the characters here as they are not simply foolish, just missing a spark of life. Their actions and reactions are wooden and predictable, often painful to watch. The makers of Earth KNOW it\\'s rubbish as they have to always say \"Gene Roddenberry\\'s Earth...\" otherwise people would not continue watching. Roddenberry\\'s ashes must be turning in their orbit as this dull, cheap, poorly edited (watching it without advert breaks really brings this home) trudging Trabant of a show lumbers into space. Spoiler. So, kill off a main character. And then bring him back as another actor. Jeeez! Dallas all over again. Sentiment: negative', 'label': 0}\n"
     ]
    },
    {
     "data": {
      "application/vnd.jupyter.widget-view+json": {
       "model_id": "93413f4fb91440b08d91cdc6fb1b0eaf",
       "version_major": 2,
       "version_minor": 0
      },
      "text/plain": [
       "Map:   0%|          | 0/5000 [00:00<?, ? examples/s]"
      ]
     },
     "metadata": {},
     "output_type": "display_data"
    },
    {
     "data": {
      "application/vnd.jupyter.widget-view+json": {
       "model_id": "d70ee15a2e474515b4fe65591af0ec3b",
       "version_major": 2,
       "version_minor": 0
      },
      "text/plain": [
       "Saving the dataset (0/1 shards):   0%|          | 0/25000 [00:00<?, ? examples/s]"
      ]
     },
     "metadata": {},
     "output_type": "display_data"
    },
    {
     "data": {
      "application/vnd.jupyter.widget-view+json": {
       "model_id": "8af8ea294eb541a596d8231db2b32eb4",
       "version_major": 2,
       "version_minor": 0
      },
      "text/plain": [
       "Saving the dataset (0/1 shards):   0%|          | 0/5000 [00:00<?, ? examples/s]"
      ]
     },
     "metadata": {},
     "output_type": "display_data"
    },
    {
     "name": "stderr",
     "output_type": "stream",
     "text": [
      "/home/zeus/miniconda3/envs/cloudspace/lib/python3.10/site-packages/transformers/training_args.py:1594: FutureWarning: `evaluation_strategy` is deprecated and will be removed in version 4.46 of 🤗 Transformers. Use `eval_strategy` instead\n",
      "  warnings.warn(\n",
      "\u001b[34m\u001b[1mwandb\u001b[0m: \u001b[33mWARNING\u001b[0m The `run_name` is currently set to the same value as `TrainingArguments.output_dir`. If this was not intended, please specify a different run name by setting the `TrainingArguments.run_name` parameter.\n",
      "\u001b[34m\u001b[1mwandb\u001b[0m: Using wandb-core as the SDK backend.  Please refer to https://wandb.me/wandb-core for more information.\n"
     ]
    },
    {
     "name": "stdout",
     "output_type": "stream",
     "text": [
      "Starting training...\n"
     ]
    },
    {
     "name": "stderr",
     "output_type": "stream",
     "text": [
      "\u001b[34m\u001b[1mwandb\u001b[0m: Currently logged in as: \u001b[33msoham-petkar\u001b[0m (\u001b[33msoham-petkar-plaksha\u001b[0m) to \u001b[32mhttps://api.wandb.ai\u001b[0m. Use \u001b[1m`wandb login --relogin`\u001b[0m to force relogin\n"
     ]
    },
    {
     "data": {
      "text/html": [
       "Tracking run with wandb version 0.19.7"
      ],
      "text/plain": [
       "<IPython.core.display.HTML object>"
      ]
     },
     "metadata": {},
     "output_type": "display_data"
    },
    {
     "data": {
      "text/html": [
       "Run data is saved locally in <code>/teamspace/studios/this_studio/wandb/run-20250223_133740-7raren2z</code>"
      ],
      "text/plain": [
       "<IPython.core.display.HTML object>"
      ]
     },
     "metadata": {},
     "output_type": "display_data"
    },
    {
     "data": {
      "text/html": [
       "Syncing run <strong><a href='https://wandb.ai/soham-petkar-plaksha/huggingface/runs/7raren2z' target=\"_blank\">./results</a></strong> to <a href='https://wandb.ai/soham-petkar-plaksha/huggingface' target=\"_blank\">Weights & Biases</a> (<a href='https://wandb.me/developer-guide' target=\"_blank\">docs</a>)<br>"
      ],
      "text/plain": [
       "<IPython.core.display.HTML object>"
      ]
     },
     "metadata": {},
     "output_type": "display_data"
    },
    {
     "data": {
      "text/html": [
       " View project at <a href='https://wandb.ai/soham-petkar-plaksha/huggingface' target=\"_blank\">https://wandb.ai/soham-petkar-plaksha/huggingface</a>"
      ],
      "text/plain": [
       "<IPython.core.display.HTML object>"
      ]
     },
     "metadata": {},
     "output_type": "display_data"
    },
    {
     "data": {
      "text/html": [
       " View run at <a href='https://wandb.ai/soham-petkar-plaksha/huggingface/runs/7raren2z' target=\"_blank\">https://wandb.ai/soham-petkar-plaksha/huggingface/runs/7raren2z</a>"
      ],
      "text/plain": [
       "<IPython.core.display.HTML object>"
      ]
     },
     "metadata": {},
     "output_type": "display_data"
    },
    {
     "name": "stderr",
     "output_type": "stream",
     "text": [
      "`loss_type=None` was set in the config but it is unrecognised.Using the default loss: `ForCausalLMLoss`.\n"
     ]
    },
    {
     "data": {
      "text/html": [
       "\n",
       "    <div>\n",
       "      \n",
       "      <progress value='4686' max='4686' style='width:300px; height:20px; vertical-align: middle;'></progress>\n",
       "      [4686/4686 24:56, Epoch 2/3]\n",
       "    </div>\n",
       "    <table border=\"1\" class=\"dataframe\">\n",
       "  <thead>\n",
       " <tr style=\"text-align: left;\">\n",
       "      <th>Epoch</th>\n",
       "      <th>Training Loss</th>\n",
       "      <th>Validation Loss</th>\n",
       "    </tr>\n",
       "  </thead>\n",
       "  <tbody>\n",
       "    <tr>\n",
       "      <td>1</td>\n",
       "      <td>2.771500</td>\n",
       "      <td>2.783678</td>\n",
       "    </tr>\n",
       "    <tr>\n",
       "      <td>2</td>\n",
       "      <td>2.770300</td>\n",
       "      <td>2.757700</td>\n",
       "    </tr>\n",
       "  </tbody>\n",
       "</table><p>"
      ],
      "text/plain": [
       "<IPython.core.display.HTML object>"
      ]
     },
     "metadata": {},
     "output_type": "display_data"
    },
    {
     "name": "stdout",
     "output_type": "stream",
     "text": [
      "Training completed.\n"
     ]
    },
    {
     "data": {
      "image/png": "[encoded data removed]",
      "text/plain": [
       "<Figure size 800x500 with 1 Axes>"
      ]
     },
     "metadata": {},
     "output_type": "display_data"
    }
   ],
   "source": [
    "# Cell 1: Install required libraries (run once if not installed)\n",
    "# !pip install transformers datasets torch matplotlib tqdm\n",
    "\n",
    "# Cell 2: Import libraries and set device\n",
    "import torch\n",
    "from transformers import AutoModelForCausalLM, AutoTokenizer, Trainer, TrainingArguments\n",
    "from datasets import load_dataset\n",
    "import os\n",
    "from tqdm import tqdm\n",
    "import matplotlib.pyplot as plt\n",
    "\n",
    "device = torch.device(\"cuda\" if torch.cuda.is_available() else \"cpu\")\n",
    "print(f\"Using device: {device}\")\n",
    "\n",
    "# Cell 3: Load GPT-2 model and tokenizer\n",
    "model_name = \"gpt2\"  # GPT-2 small (124M parameters)\n",
    "tokenizer = AutoTokenizer.from_pretrained(model_name)\n",
    "if tokenizer.pad_token is None:\n",
    "    tokenizer.pad_token = tokenizer.eos_token\n",
    "\n",
    "# Load model and set pad_token_id, then move to device\n",
    "model = AutoModelForCausalLM.from_pretrained(model_name)\n",
    "model.config.pad_token_id = tokenizer.pad_token_id\n",
    "model = model.to(device)\n",
    "\n",
    "print(f\"Model: {model_name}, Parameters: {sum(p.numel() for p in model.parameters()) / 1e6:.2f}M\")\n",
    "\n",
    "# Cell 4: Load and preprocess the IMDb dataset\n",
    "dataset = load_dataset(\"imdb\")\n",
    "\n",
    "def format_imdb_example(example):\n",
    "    label_map = {0: \"negative\", 1: \"positive\"}\n",
    "    prompt = f\"Review: {example['text']} Sentiment: {label_map[example['label']]}\"\n",
    "    return {\"text\": prompt, \"label\": example[\"label\"]}\n",
    "\n",
    "train_dataset = dataset[\"train\"].map(format_imdb_example)\n",
    "val_dataset = dataset[\"test\"].map(format_imdb_example)\n",
    "# Use only the first 5000 examples from validation for faster evaluation\n",
    "val_dataset = val_dataset.select(range(5000))\n",
    "print(f\"Train size: {len(train_dataset)}, Val size: {len(val_dataset)}\")\n",
    "print(\"Sample train:\", train_dataset[0])\n",
    "print(\"Sample val:\", val_dataset[0])\n",
    "\n",
    "# Cell 5: Tokenize the dataset\n",
    "def tokenize_function(examples):\n",
    "    tokenized = tokenizer(\n",
    "        examples[\"text\"],\n",
    "        padding=\"max_length\",\n",
    "        truncation=True,\n",
    "        max_length=256\n",
    "    )\n",
    "    # For causal LM, labels are the same as input_ids\n",
    "    tokenized[\"labels\"] = tokenized[\"input_ids\"].copy()\n",
    "    # Retain sentiment label (though not used in training here)\n",
    "    tokenized[\"sentiment_labels\"] = examples[\"label\"]\n",
    "    return tokenized\n",
    "\n",
    "tokenized_train = train_dataset.map(tokenize_function, batched=True, remove_columns=[\"text\"])\n",
    "tokenized_val = val_dataset.map(tokenize_function, batched=True, remove_columns=[\"text\"])\n",
    "\n",
    "# Set format for PyTorch tensors\n",
    "tokenized_train.set_format(\"torch\", columns=[\"input_ids\", \"attention_mask\", \"labels\", \"sentiment_labels\"])\n",
    "tokenized_val.set_format(\"torch\", columns=[\"input_ids\", \"attention_mask\", \"labels\", \"sentiment_labels\"])\n",
    "\n",
    "# Optional: Save tokenized datasets to disk for later use\n",
    "tokenized_train.save_to_disk(\"tokenized_train\")\n",
    "tokenized_val.save_to_disk(\"tokenized_val\")\n",
    "\n",
    "# Cell 6: Set up training arguments to save model checkpoints after every epoch\n",
    "training_args = TrainingArguments(\n",
    "    output_dir=\"./results\",             # Directory to store checkpoints\n",
    "    num_train_epochs=3,\n",
    "    per_device_train_batch_size=4,\n",
    "    per_device_eval_batch_size=4,\n",
    "    warmup_steps=500,\n",
    "    weight_decay=0.01,\n",
    "    logging_dir='./logs',\n",
    "    logging_steps=10,\n",
    "    evaluation_strategy=\"epoch\",        # Evaluate at the end of each epoch\n",
    "    save_strategy=\"epoch\",              # Save model checkpoint at the end of each epoch\n",
    "    load_best_model_at_end=False,       # We're saving every checkpoint, no need for best model selection here\n",
    "    push_to_hub=False,\n",
    "    fp16=torch.cuda.is_available(),\n",
    "    gradient_accumulation_steps=4\n",
    ")\n",
    "\n",
    "# Initialize Trainer\n",
    "trainer = Trainer(\n",
    "    model=model,\n",
    "    args=training_args,\n",
    "    train_dataset=tokenized_train,\n",
    "    eval_dataset=tokenized_val\n",
    ")\n",
    "\n",
    "# Cell 7: Train the model and save checkpoints\n",
    "print(\"Starting training...\")\n",
    "train_result = trainer.train()\n",
    "trainer.save_model()  # Save the final model as well\n",
    "print(\"Training completed.\")\n",
    "\n",
    "# Cell 8: Plot the training loss graph\n",
    "# Trainer logs are stored in trainer.state.log_history as a list of dicts\n",
    "log_history = trainer.state.log_history\n",
    "# Extract only the entries with a loss value\n",
    "loss_entries = [entry for entry in log_history if \"loss\" in entry]\n",
    "steps = [entry[\"step\"] for entry in loss_entries]\n",
    "losses = [entry[\"loss\"] for entry in loss_entries]\n",
    "\n",
    "plt.figure(figsize=(8, 5))\n",
    "plt.plot(steps, losses, marker='o')\n",
    "plt.xlabel(\"Training Steps\")\n",
    "plt.ylabel(\"Loss\")\n",
    "plt.title(\"Training Loss Over Steps\")\n",
    "plt.grid(True)\n",
    "plt.show()\n",
    "\n",
    "# Note:\n",
    "# The saved checkpoints will be in the \"./results\" directory, e.g.:\n",
    "# ./results/checkpoint-<step_number>\n",
    "# For 3 epochs, you should see 3 checkpoint folders containing the model weights.\n"
   ]
  },
  {
   "cell_type": "code",
   "execution_count": 2,
   "metadata": {},
   "outputs": [
    {
     "name": "stdout",
     "output_type": "stream",
     "text": [
      "Using device: cuda\n"
     ]
    },
    {
     "name": "stdout",
     "output_type": "stream",
     "text": [
      "Evaluating Base Model...\n"
     ]
    },
    {
     "name": "stderr",
     "output_type": "stream",
     "text": [
      "Evaluating: 100%|██████████| 200/200 [00:02<00:00, 79.25it/s]\n"
     ]
    },
    {
     "name": "stdout",
     "output_type": "stream",
     "text": [
      "Base Model Accuracy: 45.50%\n",
      "Evaluating Finetuned Model...\n"
     ]
    },
    {
     "name": "stderr",
     "output_type": "stream",
     "text": [
      "Evaluating: 100%|██████████| 200/200 [00:02<00:00, 79.64it/s]\n"
     ]
    },
    {
     "name": "stdout",
     "output_type": "stream",
     "text": [
      "Finetuned Model Accuracy: 96.00%\n"
     ]
    }
   ],
   "source": [
    "import torch\n",
    "from transformers import AutoModelForCausalLM, AutoTokenizer\n",
    "from datasets import load_dataset\n",
    "import tqdm\n",
    "\n",
    "device = torch.device(\"cuda\" if torch.cuda.is_available() else \"cpu\")\n",
    "print(f\"Using device: {device}\")\n",
    "\n",
    "# -----------------------------\n",
    "# Step 1: Load IMDb Test Dataset\n",
    "# -----------------------------\n",
    "test_dataset = load_dataset(\"imdb\", split=\"test\")\n",
    "sample_size = 200  # Adjust as needed\n",
    "test_subset = test_dataset.select(range(sample_size))\n",
    "\n",
    "# -----------------------------\n",
    "# Step 2: Load Tokenizer\n",
    "# -----------------------------\n",
    "tokenizer = AutoTokenizer.from_pretrained(\"gpt2\")\n",
    "if tokenizer.pad_token is None:\n",
    "    tokenizer.pad_token = tokenizer.eos_token\n",
    "\n",
    "# -----------------------------\n",
    "# Step 3: Define Classification Function with Truncation\n",
    "# -----------------------------\n",
    "def classify_review(model, tokenizer, review_text):\n",
    "    \"\"\"\n",
    "    Create a prompt from review text and return 1 if the logit for \" positive\"\n",
    "    is higher than for \" negative\", otherwise return 0.\n",
    "    We set truncation and a max_length to ensure the input doesn't exceed 1024 tokens.\n",
    "    \"\"\"\n",
    "    prompt = f\"Review: {review_text} Sentiment:\"\n",
    "    # Use truncation and set max_length to 1024 to avoid over-length issues.\n",
    "    input_ids = tokenizer.encode(prompt, return_tensors=\"pt\", truncation=True, max_length=1024).to(device)\n",
    "    \n",
    "    with torch.no_grad():\n",
    "        outputs = model(input_ids)\n",
    "    # Get logits for the token immediately after the prompt\n",
    "    logits = outputs.logits[0, -1, :]  # shape: (vocab_size,)\n",
    "    \n",
    "    # Get candidate token ids for \" positive\" and \" negative\" (with a leading space)\n",
    "    pos_ids = tokenizer.encode(\" positive\", add_special_tokens=False)\n",
    "    neg_ids = tokenizer.encode(\" negative\", add_special_tokens=False)\n",
    "    \n",
    "    vocab_size = logits.size(0)\n",
    "    pos_log_prob = logits[pos_ids[0]].item() if pos_ids and pos_ids[0] < vocab_size else float(\"-inf\")\n",
    "    neg_log_prob = logits[neg_ids[0]].item() if neg_ids and neg_ids[0] < vocab_size else float(\"-inf\")\n",
    "    \n",
    "    return 1 if pos_log_prob > neg_log_prob else 0\n",
    "\n",
    "# -----------------------------\n",
    "# Step 4: Define Evaluation Function\n",
    "# -----------------------------\n",
    "def evaluate_model(model, tokenizer, dataset):\n",
    "    correct = 0\n",
    "    total = 0\n",
    "    for example in tqdm.tqdm(dataset, desc=\"Evaluating\"):\n",
    "        review_text = example[\"text\"]\n",
    "        true_label = example[\"label\"]  # 0 for negative, 1 for positive\n",
    "        try:\n",
    "            pred_label = classify_review(model, tokenizer, review_text)\n",
    "        except Exception as e:\n",
    "            print(\"Error processing review; defaulting to label 0:\", e)\n",
    "            pred_label = 0\n",
    "        correct += int(pred_label == true_label)\n",
    "        total += 1\n",
    "    return correct / total if total > 0 else 0\n",
    "\n",
    "# -----------------------------\n",
    "# Step 5: Evaluate Base Model\n",
    "# -----------------------------\n",
    "print(\"Evaluating Base Model...\")\n",
    "base_model = AutoModelForCausalLM.from_pretrained(\"gpt2\")\n",
    "base_model.config.pad_token_id = base_model.config.eos_token_id\n",
    "base_model.to(device)\n",
    "base_model.eval()\n",
    "\n",
    "base_accuracy = evaluate_model(base_model, tokenizer, test_subset)\n",
    "print(f\"Base Model Accuracy: {base_accuracy * 100:.2f}%\")\n",
    "\n",
    "# Clear base model from GPU memory\n",
    "del base_model\n",
    "torch.cuda.empty_cache()\n",
    "\n",
    "# -----------------------------\n",
    "# Step 6: Evaluate Finetuned Model\n",
    "# -----------------------------\n",
    "print(\"Evaluating Finetuned Model...\")\n",
    "# Update finetuned_model_path to your checkpoint directory.\n",
    "finetuned_model_path = \"./results/checkpoint-3126\"  \n",
    "finetuned_model = AutoModelForCausalLM.from_pretrained(finetuned_model_path)\n",
    "finetuned_model.config.pad_token_id = finetuned_model.config.eos_token_id\n",
    "finetuned_model.to(device)\n",
    "finetuned_model.eval()\n",
    "\n",
    "finetuned_accuracy = evaluate_model(finetuned_model, tokenizer, test_subset)\n",
    "print(f\"Finetuned Model Accuracy: {finetuned_accuracy * 100:.2f}%\")\n",
    "\n",
    "# Clear finetuned model from GPU memory\n",
    "del finetuned_model\n",
    "torch.cuda.empty_cache()\n"
   ]
  },
  {
   "cell_type": "code",
   "execution_count": 3,
   "metadata": {},
   "outputs": [
    {
     "name": "stdout",
     "output_type": "stream",
     "text": [
      "Positive samples: 100, Negative samples: 100\n"
     ]
    }
   ],
   "source": [
    "dataset = load_dataset(\"imdb\", split=\"test\")\n",
    "\n",
    "def filter_by_label(data, label, max_samples=100):\n",
    "    filtered = [d for d in data if d[\"label\"] == label]\n",
    "    return filtered[:max_samples]\n",
    "\n",
    "pos_samples = filter_by_label(dataset, 1, max_samples=100)\n",
    "neg_samples = filter_by_label(dataset, 0, max_samples=100)\n",
    "\n",
    "print(f\"Positive samples: {len(pos_samples)}, Negative samples: {len(neg_samples)}\")\n",
    "\n",
    "# If you want fewer or more samples, adjust max_samples above.\n"
   ]
  },
  {
   "cell_type": "code",
   "execution_count": 4,
   "metadata": {},
   "outputs": [],
   "source": [
    "tokenizer = AutoTokenizer.from_pretrained(\"gpt2\")\n",
    "if tokenizer.pad_token is None:\n",
    "    tokenizer.pad_token = tokenizer.eos_token\n",
    "\n",
    "def encode_reviews(samples):\n",
    "    texts = [s[\"text\"] for s in samples]\n",
    "    toks = tokenizer(\n",
    "        texts,\n",
    "        return_tensors=\"pt\",\n",
    "        truncation=True,\n",
    "        max_length=1024,\n",
    "        padding=\"max_length\"\n",
    "    )\n",
    "    return toks[\"input_ids\"], toks[\"attention_mask\"]\n",
    "\n",
    "pos_input_ids, pos_mask = encode_reviews(pos_samples)\n",
    "neg_input_ids, neg_mask = encode_reviews(neg_samples)\n",
    "\n",
    "pos_input_ids, pos_mask = pos_input_ids.to(device), pos_mask.to(device)\n",
    "neg_input_ids, neg_mask = neg_input_ids.to(device), neg_mask.to(device)\n"
   ]
  },
  {
   "cell_type": "code",
   "execution_count": 5,
   "metadata": {},
   "outputs": [],
   "source": [
    "def get_last_token_activations(model, input_ids, attention_mask, batch_size=8):\n",
    "    \"\"\"\n",
    "    Returns a numpy array of shape (num_samples, hidden_dim)\n",
    "    containing the last hidden-state vectors for each sequence.\n",
    "    \"\"\"\n",
    "    model.eval()\n",
    "    all_acts = []\n",
    "    ds = TensorDataset(input_ids, attention_mask)\n",
    "    dl = DataLoader(ds, batch_size=batch_size)\n",
    "    \n",
    "    with torch.no_grad():\n",
    "        for ids_batch, mask_batch in tqdm.tqdm(dl, desc=\"Extracting activations\"):\n",
    "            outputs = model(\n",
    "                ids_batch,\n",
    "                attention_mask=mask_batch,\n",
    "                output_hidden_states=True,\n",
    "                return_dict=True\n",
    "            )\n",
    "            # The final hidden state is outputs.hidden_states[-1]\n",
    "            # shape: (batch_size, seq_len, hidden_dim)\n",
    "            final_hidden = outputs.hidden_states[-1]\n",
    "            \n",
    "            # Extract the last token from each sequence\n",
    "            last_token_act = []\n",
    "            for seq_i, mask in zip(final_hidden, mask_batch):\n",
    "                # find the last non-padding token\n",
    "                last_nonpad_idx = (mask == 1).nonzero()[-1].item()\n",
    "                last_token_act.append(seq_i[last_nonpad_idx].unsqueeze(0))\n",
    "            last_token_act = torch.cat(last_token_act, dim=0)  # shape: (batch_size, hidden_dim)\n",
    "            \n",
    "            all_acts.append(last_token_act.cpu())\n",
    "    return torch.cat(all_acts, dim=0).numpy()\n"
   ]
  },
  {
   "cell_type": "code",
   "execution_count": 9,
   "metadata": {},
   "outputs": [
    {
     "name": "stdout",
     "output_type": "stream",
     "text": [
      "\n",
      "Collecting activations for base model...\n"
     ]
    },
    {
     "name": "stderr",
     "output_type": "stream",
     "text": [
      "Extracting activations:   0%|          | 0/13 [00:00<?, ?it/s]"
     ]
    },
    {
     "name": "stderr",
     "output_type": "stream",
     "text": [
      "Extracting activations: 100%|██████████| 13/13 [00:04<00:00,  2.99it/s]\n",
      "Extracting activations: 100%|██████████| 13/13 [00:04<00:00,  2.98it/s]\n"
     ]
    },
    {
     "name": "stdout",
     "output_type": "stream",
     "text": [
      "\n",
      "Collecting activations for finetuned model...\n"
     ]
    },
    {
     "name": "stderr",
     "output_type": "stream",
     "text": [
      "Extracting activations: 100%|██████████| 13/13 [00:04<00:00,  2.99it/s]\n",
      "Extracting activations: 100%|██████████| 13/13 [00:04<00:00,  2.96it/s]\n"
     ]
    }
   ],
   "source": [
    "from torch.utils.data import DataLoader, TensorDataset\n",
    "\n",
    "model_paths = {\n",
    "    \"base\": \"gpt2\",\n",
    "    \"finetuned\": \"./results/checkpoint-3126\"  # update to your actual checkpoint path\n",
    "}\n",
    "\n",
    "all_activations = {}  # {model_label: (pos_acts, neg_acts)}\n",
    "\n",
    "for label, path in model_paths.items():\n",
    "    print(f\"\\nCollecting activations for {label} model...\")\n",
    "    model = AutoModelForCausalLM.from_pretrained(path)\n",
    "    model.config.pad_token_id = tokenizer.pad_token_id\n",
    "    model.to(device)\n",
    "    model.eval()\n",
    "    \n",
    "    # Extract last-token activations for positive and negative sets\n",
    "    pos_acts = get_last_token_activations(model, pos_input_ids, pos_mask, batch_size=8)\n",
    "    neg_acts = get_last_token_activations(model, neg_input_ids, neg_mask, batch_size=8)\n",
    "    \n",
    "    all_activations[label] = (pos_acts, neg_acts)\n",
    "    \n",
    "    # Clear model from GPU to save memory if analyzing multiple models\n",
    "    del model\n",
    "    torch.cuda.empty_cache()\n"
   ]
  },
  {
   "cell_type": "code",
   "execution_count": 12,
   "metadata": {},
   "outputs": [
    {
     "name": "stdout",
     "output_type": "stream",
     "text": [
      "\n",
      "Running t-SNE for base model... (this can be slow)\n"
     ]
    },
    {
     "name": "stdout",
     "output_type": "stream",
     "text": [
      "\n",
      "Running t-SNE for finetuned model... (this can be slow)\n"
     ]
    },
    {
     "data": {
      "image/png": "[encoded data removed]",
      "text/plain": [
       "<Figure size 1400x600 with 2 Axes>"
      ]
     },
     "metadata": {},
     "output_type": "display_data"
    }
   ],
   "source": [
    "from sklearn.manifold import TSNE\n",
    "import matplotlib.pyplot as plt\n",
    "import numpy as np\n",
    "\n",
    "fig, axs = plt.subplots(nrows=1, ncols=2, figsize=(14, 6))\n",
    "\n",
    "model_labels = list(all_activations.keys())\n",
    "for i, label in enumerate(model_labels):\n",
    "    ax = axs[i]\n",
    "    \n",
    "    pos_acts, neg_acts = all_activations[label]\n",
    "    all_acts = np.concatenate([pos_acts, neg_acts], axis=0)\n",
    "    \n",
    "    # Run t-SNE\n",
    "    print(f\"\\nRunning t-SNE for {label} model... (this can be slow)\")\n",
    "    tsne = TSNE(n_components=2, perplexity=30, learning_rate=\"auto\", init=\"pca\")\n",
    "    tsne_acts = tsne.fit_transform(all_acts)\n",
    "    \n",
    "    # Split back into pos vs neg\n",
    "    pos_count = len(pos_acts)\n",
    "    pos_tsne = tsne_acts[:pos_count]\n",
    "    neg_tsne = tsne_acts[pos_count:]\n",
    "    \n",
    "    ax.scatter(pos_tsne[:, 0], pos_tsne[:, 1], c='blue', alpha=0.5, label='Positive')\n",
    "    ax.scatter(neg_tsne[:, 0], neg_tsne[:, 1], c='red', alpha=0.5, label='Negative')\n",
    "    ax.set_title(f\"{label.capitalize()} Model t-SNE\")\n",
    "    ax.set_xlabel(\"t-SNE Dim 1\")\n",
    "    ax.set_ylabel(\"t-SNE Dim 2\")\n",
    "    ax.legend()\n",
    "\n",
    "plt.tight_layout()\n",
    "plt.show()\n"
   ]
  },
  {
   "cell_type": "code",
   "execution_count": null,
   "metadata": {},
   "outputs": [],
   "source": []
  }
 ],
 "metadata": {
  "language_info": {
   "name": "python"
  }
 },
 "nbformat": 4,
 "nbformat_minor": 2
}
